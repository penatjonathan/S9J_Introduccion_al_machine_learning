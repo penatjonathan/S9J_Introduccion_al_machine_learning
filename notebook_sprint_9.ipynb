{
 "cells": [
  {
   "cell_type": "markdown",
   "id": "7083ee6f",
   "metadata": {},
   "source": [
    "Sprint 9 - Proyecto"
   ]
  },
  {
   "cell_type": "markdown",
   "id": "f6925f29",
   "metadata": {},
   "source": [
    "La compañía móvil Megaline no está satisfecha al ver que muchos de sus clientes utilizan planes heredados. Quieren desarrollar un modelo que pueda analizar el comportamiento de los clientes y recomendar uno de los nuevos planes de Megaline: Smart o Ultra.\n",
    "\n",
    "Tienes acceso a los datos de comportamiento de los suscriptores que ya se han cambiado a los planes nuevos (del proyecto del sprint de Análisis estadístico de datos). Para esta tarea de clasificación debes crear un modelo que escoja el plan correcto. Como ya hiciste el paso de procesar los datos, puedes lanzarte directo a crear el modelo.\n",
    "\n",
    "Desarrolla un modelo con la mayor exactitud posible. En este proyecto, el umbral de exactitud es 0.75. Usa el dataset para comprobar la exactitud."
   ]
  },
  {
   "cell_type": "markdown",
   "id": "fc75354f",
   "metadata": {},
   "source": [
    "PASO 1: ABRIR Y EXAMINAR EL ARCHIVO DE DATOS"
   ]
  },
  {
   "cell_type": "markdown",
   "id": "61ae174d",
   "metadata": {},
   "source": [
    "1.1Carga de librerías"
   ]
  },
  {
   "cell_type": "code",
   "execution_count": 42,
   "id": "86054ff8",
   "metadata": {},
   "outputs": [],
   "source": [
    "import numpy as np\n",
    "import pandas as pd\n",
    "\n",
    "from sklearn.model_selection import train_test_split\n",
    "from sklearn.metrics import accuracy_score\n",
    "from sklearn.tree import DecisionTreeClassifier\n",
    "from sklearn.ensemble import RandomForestClassifier\n",
    "from sklearn.linear_model import LogisticRegression\n",
    "\n",
    "\n",
    "RND = 54321"
   ]
  },
  {
   "cell_type": "markdown",
   "id": "cbb0a1d7",
   "metadata": {},
   "source": [
    "1.2.Carga de datos y verificar datos ausentes(no tenemos datos ausentes !)"
   ]
  },
  {
   "cell_type": "code",
   "execution_count": 43,
   "id": "67f6894b",
   "metadata": {},
   "outputs": [
    {
     "name": "stdout",
     "output_type": "stream",
     "text": [
      "<class 'pandas.core.frame.DataFrame'>\n",
      "RangeIndex: 3214 entries, 0 to 3213\n",
      "Data columns (total 5 columns):\n",
      " #   Column    Non-Null Count  Dtype  \n",
      "---  ------    --------------  -----  \n",
      " 0   calls     3214 non-null   float64\n",
      " 1   minutes   3214 non-null   float64\n",
      " 2   messages  3214 non-null   float64\n",
      " 3   mb_used   3214 non-null   float64\n",
      " 4   is_ultra  3214 non-null   int64  \n",
      "dtypes: float64(4), int64(1)\n",
      "memory usage: 125.7 KB\n"
     ]
    },
    {
     "data": {
      "text/html": [
       "<div>\n",
       "<style scoped>\n",
       "    .dataframe tbody tr th:only-of-type {\n",
       "        vertical-align: middle;\n",
       "    }\n",
       "\n",
       "    .dataframe tbody tr th {\n",
       "        vertical-align: top;\n",
       "    }\n",
       "\n",
       "    .dataframe thead th {\n",
       "        text-align: right;\n",
       "    }\n",
       "</style>\n",
       "<table border=\"1\" class=\"dataframe\">\n",
       "  <thead>\n",
       "    <tr style=\"text-align: right;\">\n",
       "      <th></th>\n",
       "      <th>calls</th>\n",
       "      <th>minutes</th>\n",
       "      <th>messages</th>\n",
       "      <th>mb_used</th>\n",
       "      <th>is_ultra</th>\n",
       "    </tr>\n",
       "  </thead>\n",
       "  <tbody>\n",
       "    <tr>\n",
       "      <th>0</th>\n",
       "      <td>40.0</td>\n",
       "      <td>311.90</td>\n",
       "      <td>83.0</td>\n",
       "      <td>19915.42</td>\n",
       "      <td>0</td>\n",
       "    </tr>\n",
       "    <tr>\n",
       "      <th>1</th>\n",
       "      <td>85.0</td>\n",
       "      <td>516.75</td>\n",
       "      <td>56.0</td>\n",
       "      <td>22696.96</td>\n",
       "      <td>0</td>\n",
       "    </tr>\n",
       "    <tr>\n",
       "      <th>2</th>\n",
       "      <td>77.0</td>\n",
       "      <td>467.66</td>\n",
       "      <td>86.0</td>\n",
       "      <td>21060.45</td>\n",
       "      <td>0</td>\n",
       "    </tr>\n",
       "    <tr>\n",
       "      <th>3</th>\n",
       "      <td>106.0</td>\n",
       "      <td>745.53</td>\n",
       "      <td>81.0</td>\n",
       "      <td>8437.39</td>\n",
       "      <td>1</td>\n",
       "    </tr>\n",
       "    <tr>\n",
       "      <th>4</th>\n",
       "      <td>66.0</td>\n",
       "      <td>418.74</td>\n",
       "      <td>1.0</td>\n",
       "      <td>14502.75</td>\n",
       "      <td>0</td>\n",
       "    </tr>\n",
       "  </tbody>\n",
       "</table>\n",
       "</div>"
      ],
      "text/plain": [
       "   calls  minutes  messages   mb_used  is_ultra\n",
       "0   40.0   311.90      83.0  19915.42         0\n",
       "1   85.0   516.75      56.0  22696.96         0\n",
       "2   77.0   467.66      86.0  21060.45         0\n",
       "3  106.0   745.53      81.0   8437.39         1\n",
       "4   66.0   418.74       1.0  14502.75         0"
      ]
     },
     "execution_count": 43,
     "metadata": {},
     "output_type": "execute_result"
    }
   ],
   "source": [
    "df = pd.read_csv(r\"C:\\Users\\jonat\\Desktop\\DATA_SCIENTIST\\SPRINT_9_Introduccion_al_machine_learning\\users_behavior.csv\")\n",
    "df.info()\n",
    "df.head()\n"
   ]
  },
  {
   "cell_type": "markdown",
   "id": "c5346ada",
   "metadata": {},
   "source": [
    "PASO 2: SEGMENTAR EN ENTRENAMIENTO / VALIDACION / PRUEBA\n",
    "PROPUESTA:60 TRAIN, 20 VALID, 20 TEST"
   ]
  },
  {
   "cell_type": "markdown",
   "id": "61df2c75",
   "metadata": {},
   "source": [
    "2.1.Separar features y target"
   ]
  },
  {
   "cell_type": "code",
   "execution_count": 44,
   "id": "8adb376a",
   "metadata": {},
   "outputs": [],
   "source": [
    "X = df[['calls','minutes','messages','mb_used']]\n",
    "y = df['is_ultra']"
   ]
  },
  {
   "cell_type": "markdown",
   "id": "f069d097",
   "metadata": {},
   "source": [
    "2.2.Segmentación: 60% train, 20% valid, 20% test"
   ]
  },
  {
   "cell_type": "code",
   "execution_count": 45,
   "id": "ebec295d",
   "metadata": {},
   "outputs": [],
   "source": [
    "X_temp, X_test, y_temp, y_test = train_test_split(X, y, test_size=0.20, random_state=RND, stratify=y)\n",
    "X_train, X_valid, y_train, y_valid = train_test_split(X_temp, y_temp, test_size=0.25, random_state=RND, stratify=y_temp)"
   ]
  },
  {
   "cell_type": "code",
   "execution_count": 46,
   "id": "e57ca773",
   "metadata": {},
   "outputs": [
    {
     "name": "stdout",
     "output_type": "stream",
     "text": [
      "Train: (1928, 4), Valid: (643, 4), Test: (643, 4)\n",
      "Distribución de clases (train/valid/test): 0.307 0.306 0.306\n"
     ]
    }
   ],
   "source": [
    "print(f\"Train: {X_train.shape}, Valid: {X_valid.shape}, Test: {X_test.shape}\")\n",
    "print(\"Distribución de clases (train/valid/test):\",\n",
    "      y_train.mean().round(3), y_valid.mean().round(3), y_test.mean().round(3))"
   ]
  },
  {
   "cell_type": "markdown",
   "id": "191df7e5",
   "metadata": {},
   "source": [
    "PASO 3: INVESTIGAR LA CALIDAD DE DIFERENTES MODELOS CAMBIANDO HIPERPARAMETROS (PROBE CON LOGISTICREGRESSION, DECISIONTREE Y RANDOMFOREST)"
   ]
  },
  {
   "cell_type": "markdown",
   "id": "c3fd111a",
   "metadata": {},
   "source": [
    "3.1 Arbol de decision: variar  con max_depth"
   ]
  },
  {
   "cell_type": "code",
   "execution_count": 47,
   "id": "fd0e1a30",
   "metadata": {},
   "outputs": [
    {
     "name": "stdout",
     "output_type": "stream",
     "text": [
      "DecisionTree max_depth=3 -> Acc(Valid)=0.8087\n",
      "DecisionTree max_depth=5 -> Acc(Valid)=0.8118\n",
      "DecisionTree max_depth=7 -> Acc(Valid)=0.8025\n",
      "DecisionTree max_depth=9 -> Acc(Valid)=0.7947\n",
      "DecisionTree max_depth=None -> Acc(Valid)=0.7403\n"
     ]
    }
   ],
   "source": [
    "for d in [3,5,7,9,None]:\n",
    "    clf = DecisionTreeClassifier(max_depth=d, random_state=RND)\n",
    "    clf.fit(X_train, y_train)\n",
    "    acc = accuracy_score(y_valid, clf.predict(X_valid))\n",
    "    print(f\"DecisionTree max_depth={d} -> Acc(Valid)={acc:.4f}\")\n",
    "    if acc > best_acc:\n",
    "        best_name, best_model, best_acc = f\"DecisionTree(d={d})\", clf, acc"
   ]
  },
  {
   "cell_type": "markdown",
   "id": "49bb2ebf",
   "metadata": {},
   "source": [
    "3.2 Random Forest: variar n_estimators y max_depth"
   ]
  },
  {
   "cell_type": "code",
   "execution_count": 48,
   "id": "220733ee",
   "metadata": {},
   "outputs": [
    {
     "name": "stdout",
     "output_type": "stream",
     "text": [
      "RandomForest n=100, depth=None -> Acc(Valid)=0.8087\n",
      "RandomForest n=100, depth=5 -> Acc(Valid)=0.8118\n",
      "RandomForest n=100, depth=10 -> Acc(Valid)=0.8149\n",
      "RandomForest n=200, depth=None -> Acc(Valid)=0.8087\n",
      "RandomForest n=200, depth=5 -> Acc(Valid)=0.8134\n",
      "RandomForest n=200, depth=10 -> Acc(Valid)=0.8149\n",
      "RandomForest n=400, depth=None -> Acc(Valid)=0.8072\n",
      "RandomForest n=400, depth=5 -> Acc(Valid)=0.8149\n",
      "RandomForest n=400, depth=10 -> Acc(Valid)=0.8149\n"
     ]
    }
   ],
   "source": [
    "for n in [100,200,400]:\n",
    "    for d in [None,5,10]:\n",
    "        rf = RandomForestClassifier(n_estimators=n, max_depth=d, random_state=RND)\n",
    "        rf.fit(X_train, y_train)\n",
    "        acc = accuracy_score(y_valid, rf.predict(X_valid))\n",
    "        print(f\"RandomForest n={n}, depth={d} -> Acc(Valid)={acc:.4f}\")\n",
    "        if acc > best_acc:\n",
    "            best_name, best_model, best_acc = f\"RandomForest(n={n},d={d})\", rf, acc"
   ]
  },
  {
   "cell_type": "markdown",
   "id": "8a470aef",
   "metadata": {},
   "source": [
    " 3.3 Regresión logística: variar solver/C (muy básico)"
   ]
  },
  {
   "cell_type": "code",
   "execution_count": 49,
   "id": "40c35aa9",
   "metadata": {},
   "outputs": [
    {
     "name": "stdout",
     "output_type": "stream",
     "text": [
      "LogReg C=0.5 -> Acc(Valid)=0.7558\n",
      "LogReg C=1.0 -> Acc(Valid)=0.7558\n",
      "LogReg C=3.0 -> Acc(Valid)=0.7558\n",
      "LogReg C=10.0 -> Acc(Valid)=0.7558\n",
      "\n",
      "Mejor en validación: RandomForest con Acc=0.8258\n"
     ]
    }
   ],
   "source": [
    "for C in [0.5,1.0,3.0,10.0]:\n",
    "    lr = LogisticRegression(max_iter=1000, solver='lbfgs', C=C, random_state=RND)\n",
    "    lr.fit(X_train, y_train)\n",
    "    acc = accuracy_score(y_valid, lr.predict(X_valid))\n",
    "    print(f\"LogReg C={C} -> Acc(Valid)={acc:.4f}\")\n",
    "    if acc > best_acc:\n",
    "        best_name, best_model, best_acc = f\"LogReg(C={C})\", lr, acc\n",
    "\n",
    "print(f\"\\nMejor en validación: {best_name} con Acc={best_acc:.4f}\")"
   ]
  },
  {
   "cell_type": "markdown",
   "id": "11fede01",
   "metadata": {},
   "source": [
    "PASO 4: REENTRENAR EL MEJOR MODELO CON TRAIN + VALID Y EVALUAR TEST"
   ]
  },
  {
   "cell_type": "code",
   "execution_count": 55,
   "id": "a8a11795",
   "metadata": {},
   "outputs": [
    {
     "name": "stdout",
     "output_type": "stream",
     "text": [
      "\n",
      "Exactitud en TEST = 0.8149 (objetivo ≥ 0.75)\n"
     ]
    }
   ],
   "source": [
    "X_train_full = pd.concat([X_train, X_valid], axis=0)\n",
    "y_train_full = pd.concat([y_train, y_valid], axis=0)\n",
    "\n",
    "final_model = candidates[best_name]['pipeline'].set_params(**best_params)\n",
    "final_model.fit(X_train_full, y_train_full)\n",
    "\n",
    "test_acc = accuracy_score(y_test, final_model.predict(X_test))\n",
    "print(f\"\\nExactitud en TEST = {test_acc:.4f} (objetivo ≥ 0.75)\")"
   ]
  },
  {
   "cell_type": "markdown",
   "id": "a16c2e44",
   "metadata": {},
   "source": [
    "PASO 5: PRUEBA DE COORDURA"
   ]
  },
  {
   "cell_type": "markdown",
   "id": "71e67391",
   "metadata": {},
   "source": [
    "5.1 Baseline rapido, siempre predecir la clase mayoritaria del train_full"
   ]
  },
  {
   "cell_type": "code",
   "execution_count": 56,
   "id": "ae8fb8eb",
   "metadata": {},
   "outputs": [
    {
     "name": "stdout",
     "output_type": "stream",
     "text": [
      "Baseline mayoría (TEST) = 0.6936\n"
     ]
    }
   ],
   "source": [
    "majority = int(y_train_full.mean() >= 0.5)\n",
    "baseline_acc = (y_test.values == majority).mean()\n",
    "print(f\"Baseline mayoría (TEST) = {baseline_acc:.4f}\")"
   ]
  },
  {
   "cell_type": "markdown",
   "id": "24b1b642",
   "metadata": {},
   "source": [
    "5.2. Etiquetas barajeadas, 0.5 si es balanceado"
   ]
  },
  {
   "cell_type": "code",
   "execution_count": 59,
   "id": "80efc660",
   "metadata": {},
   "outputs": [
    {
     "name": "stdout",
     "output_type": "stream",
     "text": [
      "Con etiquetas barajadas (TEST) = 0.6967  <-- debería acercarse a ~0.5 si las clases están balanceadas\n"
     ]
    }
   ],
   "source": [
    "y_shuf = y_train_full.sample(frac=1.0, random_state=RND)\n",
    "\n",
    "shuf_model = candidates[best_name]['pipeline'].set_params(**best_params)\n",
    "shuf_model.fit(X_train_full, y_shuf)\n",
    "\n",
    "shuf_acc = accuracy_score(y_test, shuf_model.predict(X_test))\n",
    "print(f\"Con etiquetas barajadas (TEST) = {shuf_acc:.4f}  <-- debería acercarse a ~0.5 si las clases están balanceadas\")\n"
   ]
  },
  {
   "cell_type": "markdown",
   "id": "ef538ec1",
   "metadata": {},
   "source": [
    "CONCLUSIONES"
   ]
  },
  {
   "cell_type": "markdown",
   "id": "988ab776",
   "metadata": {},
   "source": [
    "Dividi el conjunto en train/valid/test para conservar la proporción de clases: 60%/20%/20%. Esta elección balancea el tamaño suficiente de entrenamiento con un bloque de validación para selección de modelo y un bloque de prueba independiente para evaluación final."
   ]
  },
  {
   "cell_type": "markdown",
   "id": "a4370092",
   "metadata": {},
   "source": [
    "Evaluación y selección de modelos:Compare tres familias, DecisionTreeClassifier, RandomForestClassifier y LogisticRegression, ya que eres un problema de clasifiacino de categoria y no se estimacinoes numericas"
   ]
  },
  {
   "cell_type": "markdown",
   "id": "af629d57",
   "metadata": {},
   "source": [
    "Reentrene el modelo ganador con train+valid y se evaluó en test"
   ]
  },
  {
   "cell_type": "markdown",
   "id": "4b383f23",
   "metadata": {},
   "source": [
    "RandomForest suele ofrecer mejor desempeño en este problema por su capacidad de capturar relaciones no lineales sin requerir escalado.\n",
    "\n",
    "DecisionTree es interpretable pero sensible a max_depth (riesgo de sobreajuste).\n",
    "\n",
    "LogisticRegression funciona como un baseline sólido; cuando la frontera es más lineal, puede acercarse al bosque."
   ]
  },
  {
   "cell_type": "markdown",
   "id": "2ce85ee1",
   "metadata": {},
   "source": []
  }
 ],
 "metadata": {
  "kernelspec": {
   "display_name": "Python 3",
   "language": "python",
   "name": "python3"
  },
  "language_info": {
   "codemirror_mode": {
    "name": "ipython",
    "version": 3
   },
   "file_extension": ".py",
   "mimetype": "text/x-python",
   "name": "python",
   "nbconvert_exporter": "python",
   "pygments_lexer": "ipython3",
   "version": "3.11.9"
  }
 },
 "nbformat": 4,
 "nbformat_minor": 5
}
